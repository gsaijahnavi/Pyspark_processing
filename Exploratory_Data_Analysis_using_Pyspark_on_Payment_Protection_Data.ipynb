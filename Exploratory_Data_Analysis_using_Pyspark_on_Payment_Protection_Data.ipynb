{
  "nbformat": 4,
  "nbformat_minor": 0,
  "metadata": {
    "colab": {
      "provenance": [],
      "toc_visible": true
    },
    "kernelspec": {
      "name": "python3",
      "display_name": "Python 3"
    },
    "language_info": {
      "name": "python"
    }
  },
  "cells": [
    {
      "cell_type": "markdown",
      "source": [
        "# Project 1: EDA with PySpark"
      ],
      "metadata": {
        "id": "ebTv_67Xec98"
      }
    },
    {
      "cell_type": "markdown",
      "source": [
        "* **Your Group Number:**\n",
        "* **Each Team Members Name and Student ID:**"
      ],
      "metadata": {
        "id": "0P1jjFW3nDIt"
      }
    },
    {
      "cell_type": "markdown",
      "source": [
        "By submitting this group work, “I accept responsibility for my role in ensuring the integrity of the work submitted by the group in which I participated.”\n",
        "\n",
        "[source](https://www.rochester.edu/college/honesty/instructors/pledge.html)"
      ],
      "metadata": {
        "id": "j1tsuG6tnR5F"
      }
    },
    {
      "cell_type": "markdown",
      "source": [
        "# Introduction"
      ],
      "metadata": {
        "id": "WztDXE3lngQS"
      }
    },
    {
      "cell_type": "markdown",
      "source": [
        "The purpose of this project is to help you apply what you learned in the previous lectures to a real-world dataset. At the end of it, you will have a self-contained notebook that you can brag about in job interviews. I've left some code cells and given some info on dataframe shape to help you check your work...\n",
        "\n",
        "Now let's go tackle the PPP dataset and find some interesting trends using PySpark!"
      ],
      "metadata": {
        "id": "-4Km20MQgIWy"
      }
    },
    {
      "cell_type": "markdown",
      "source": [
        "## Download PPP data"
      ],
      "metadata": {
        "id": "aNh1_VfSfNjL"
      }
    },
    {
      "cell_type": "markdown",
      "source": [
        "You can download the data from here (https://data.sba.gov/dataset/ppp-foia). We will use the first three files.\n",
        "\n",
        "I have tried copying the link address and pasting it here (so no need to mount your Google Drive) - but the link address changes every few months, so instead we can download locally, drag to Google Drive, and use a shareable link."
      ],
      "metadata": {
        "id": "iT_jRh90egQd"
      }
    },
    {
      "cell_type": "code",
      "execution_count": null,
      "metadata": {
        "id": "fE3CH1V2eDJe"
      },
      "outputs": [],
      "source": [
        "# download the SBA data\n",
        "# would be great but the link changes every quarter!\n",
        "\n",
        "\n",
        "#!gdown https://data.sba.gov/dataset/8aa276e2-6cab-4f86-aca4-a7dde42adf24/resource/0187d0dd-1a59-4c99-a04d-982231e68778/download/public_150k_plus_220930.csv\n",
        "#!gdown https://data.sba.gov/dataset/8aa276e2-6cab-4f86-aca4-a7dde42adf24/resource/ef9a027d-6681-4e36-a1d8-82757dd210b4/download/public_up_to_150k_1_220930.csv\n",
        "#!gdown https://data.sba.gov/dataset/8aa276e2-6cab-4f86-aca4-a7dde42adf24/resource/cd9ec3d9-515a-4064-b843-2c22ad9046b4/download/public_up_to_150k_2_220930.csv"
      ]
    },
    {
      "cell_type": "markdown",
      "source": [
        "For some reason, I had to upgrade gdown to download a massive .csv file from my Google Drive... run this then try to download the files from your Google Drive!"
      ],
      "metadata": {
        "id": "lRXExyZVDush"
      }
    },
    {
      "cell_type": "code",
      "source": [
        "!pip install --upgrade --no-cache-dir gdown"
      ],
      "metadata": {
        "colab": {
          "base_uri": "https://localhost:8080/"
        },
        "id": "5YbNxESZDpxo",
        "outputId": "d0550b30-a6f7-4319-877c-ae7b647503c5"
      },
      "execution_count": null,
      "outputs": [
        {
          "output_type": "stream",
          "name": "stdout",
          "text": [
            "Looking in indexes: https://pypi.org/simple, https://us-python.pkg.dev/colab-wheels/public/simple/\n",
            "Requirement already satisfied: gdown in /usr/local/lib/python3.8/dist-packages (4.4.0)\n",
            "Collecting gdown\n",
            "  Downloading gdown-4.6.0-py3-none-any.whl (14 kB)\n",
            "Requirement already satisfied: six in /usr/local/lib/python3.8/dist-packages (from gdown) (1.15.0)\n",
            "Requirement already satisfied: beautifulsoup4 in /usr/local/lib/python3.8/dist-packages (from gdown) (4.6.3)\n",
            "Requirement already satisfied: requests[socks] in /usr/local/lib/python3.8/dist-packages (from gdown) (2.25.1)\n",
            "Requirement already satisfied: tqdm in /usr/local/lib/python3.8/dist-packages (from gdown) (4.64.1)\n",
            "Requirement already satisfied: filelock in /usr/local/lib/python3.8/dist-packages (from gdown) (3.9.0)\n",
            "Requirement already satisfied: certifi>=2017.4.17 in /usr/local/lib/python3.8/dist-packages (from requests[socks]->gdown) (2022.12.7)\n",
            "Requirement already satisfied: idna<3,>=2.5 in /usr/local/lib/python3.8/dist-packages (from requests[socks]->gdown) (2.10)\n",
            "Requirement already satisfied: urllib3<1.27,>=1.21.1 in /usr/local/lib/python3.8/dist-packages (from requests[socks]->gdown) (1.24.3)\n",
            "Requirement already satisfied: chardet<5,>=3.0.2 in /usr/local/lib/python3.8/dist-packages (from requests[socks]->gdown) (4.0.0)\n",
            "Requirement already satisfied: PySocks!=1.5.7,>=1.5.6 in /usr/local/lib/python3.8/dist-packages (from requests[socks]->gdown) (1.7.1)\n",
            "Installing collected packages: gdown\n",
            "  Attempting uninstall: gdown\n",
            "    Found existing installation: gdown 4.4.0\n",
            "    Uninstalling gdown-4.4.0:\n",
            "      Successfully uninstalled gdown-4.4.0\n",
            "Successfully installed gdown-4.6.0\n"
          ]
        }
      ]
    },
    {
      "cell_type": "code",
      "source": [
        "# download from Dave's google drive\n",
        "!gdown 1JGW0DmOkR39tC8DiExRNbAoAsoy7JGwm\n",
        "!gdown 1pIgGStXobZM9MkenPTduLfGwcJl9xwZh\n",
        "!gdown 10C_r3jdN4iOb0KmHg7gk3FIS7DMNriaV"
      ],
      "metadata": {
        "colab": {
          "base_uri": "https://localhost:8080/"
        },
        "id": "f6Iy2yi4ukos",
        "outputId": "cf1b0c91-5f6f-4464-cc9c-481258087b08"
      },
      "execution_count": null,
      "outputs": [
        {
          "output_type": "stream",
          "name": "stdout",
          "text": [
            "Downloading...\n",
            "From: https://drive.google.com/uc?id=1JGW0DmOkR39tC8DiExRNbAoAsoy7JGwm\n",
            "To: /content/public_150k_plus_230101.csv\n",
            "100% 452M/452M [00:04<00:00, 91.3MB/s]\n",
            "Downloading...\n",
            "From: https://drive.google.com/uc?id=1pIgGStXobZM9MkenPTduLfGwcJl9xwZh\n",
            "To: /content/public_up_to_150k_1_230101.csv\n",
            "100% 413M/413M [00:03<00:00, 118MB/s]\n",
            "Downloading...\n",
            "From: https://drive.google.com/uc?id=10C_r3jdN4iOb0KmHg7gk3FIS7DMNriaV\n",
            "To: /content/public_up_to_150k_2_230101.csv\n",
            "100% 412M/412M [00:03<00:00, 126MB/s]\n"
          ]
        }
      ]
    },
    {
      "cell_type": "markdown",
      "source": [
        "If you look left, you should be able to see the three big .csv files on the lefthand side."
      ],
      "metadata": {
        "id": "miskYYfBeu45"
      }
    },
    {
      "cell_type": "markdown",
      "source": [
        "## Download zipcode-level socioeconomic data\n",
        "It's generally not known what census tract a business resides in, but the zipcode is almost always known. \n",
        "\n",
        "This repo (https://github.com/Ro-Data/Ro-Census-Summaries-By-Zipcode) has zipcode-level census attributes. I have downloaded all of the files to our local runtime on the left."
      ],
      "metadata": {
        "id": "zcF03DIPfPqq"
      }
    },
    {
      "cell_type": "code",
      "source": [
        "!gdown https://raw.githubusercontent.com/Ro-Data/Ro-Census-Summaries-By-Zipcode/master/econ.txt\n",
        "!gdown https://raw.githubusercontent.com/Ro-Data/Ro-Census-Summaries-By-Zipcode/master/demo.txt\n",
        "!gdown https://raw.githubusercontent.com/Ro-Data/Ro-Census-Summaries-By-Zipcode/master/housing.txt\n",
        "!gdown https://raw.githubusercontent.com/Ro-Data/Ro-Census-Summaries-By-Zipcode/master/rural_urban.txt\n",
        "!gdown https://raw.githubusercontent.com/Ro-Data/Ro-Census-Summaries-By-Zipcode/master/social.txt"
      ],
      "metadata": {
        "colab": {
          "base_uri": "https://localhost:8080/"
        },
        "id": "97iQRyaofvlD",
        "outputId": "48024130-9013-4413-de92-a0b4c8e43ebe"
      },
      "execution_count": null,
      "outputs": [
        {
          "output_type": "stream",
          "name": "stdout",
          "text": [
            "Downloading...\n",
            "From: https://raw.githubusercontent.com/Ro-Data/Ro-Census-Summaries-By-Zipcode/master/econ.txt\n",
            "To: /content/econ.txt\n",
            "49.7MB [00:00, 124MB/s]\n",
            "Downloading...\n",
            "From: https://raw.githubusercontent.com/Ro-Data/Ro-Census-Summaries-By-Zipcode/master/demo.txt\n",
            "To: /content/demo.txt\n",
            "26.7MB [00:00, 124MB/s]\n",
            "Downloading...\n",
            "From: https://raw.githubusercontent.com/Ro-Data/Ro-Census-Summaries-By-Zipcode/master/housing.txt\n",
            "To: /content/housing.txt\n",
            "49.0MB [00:00, 130MB/s]\n",
            "Downloading...\n",
            "From: https://raw.githubusercontent.com/Ro-Data/Ro-Census-Summaries-By-Zipcode/master/rural_urban.txt\n",
            "To: /content/rural_urban.txt\n",
            "923kB [00:00, 29.9MB/s]       \n",
            "Downloading...\n",
            "From: https://raw.githubusercontent.com/Ro-Data/Ro-Census-Summaries-By-Zipcode/master/social.txt\n",
            "To: /content/social.txt\n",
            "46.0MB [00:00, 111MB/s]\n"
          ]
        }
      ]
    },
    {
      "cell_type": "markdown",
      "source": [
        "# Install Spark"
      ],
      "metadata": {
        "id": "l0Riiafgg0Ot"
      }
    },
    {
      "cell_type": "code",
      "execution_count": null,
      "metadata": {
        "id": "H5Eqa_wqGE7c"
      },
      "outputs": [],
      "source": [
        "# install java\n",
        "!apt-get install openjdk-8-jdk-headless -qq > /dev/null\n",
        "\n",
        "# install spark (change the version number if needed)\n",
        "!wget -q https://archive.apache.org/dist/spark/spark-3.0.0/spark-3.0.0-bin-hadoop3.2.tgz\n",
        "\n",
        "# unzip the spark file to the current folder\n",
        "!tar xf spark-3.0.0-bin-hadoop3.2.tgz\n",
        "\n",
        "# set your spark folder to your system path environment. \n",
        "import os\n",
        "os.environ[\"JAVA_HOME\"] = \"/usr/lib/jvm/java-8-openjdk-amd64\"\n",
        "os.environ[\"SPARK_HOME\"] = \"/content/spark-3.0.0-bin-hadoop3.2\"\n",
        "\n",
        "\n",
        "# install findspark using pip\n",
        "!pip install -q findspark\n",
        "\n",
        "# findspark\n",
        "import findspark\n",
        "findspark.init()"
      ]
    },
    {
      "cell_type": "markdown",
      "source": [
        "# Start session"
      ],
      "metadata": {
        "id": "CRxEW8DkGXCF"
      }
    },
    {
      "cell_type": "markdown",
      "source": [
        "We start the builder pattern `SparkSession.builder` and then chain a configuration parameter that defined the application name."
      ],
      "metadata": {
        "id": "JuJ0P_fPhMro"
      }
    },
    {
      "cell_type": "markdown",
      "source": [
        "Providing a useful `appName` helps you identify which programs are running on your Spark cluster."
      ],
      "metadata": {
        "id": "J2w5YYf2hsUx"
      }
    },
    {
      "cell_type": "code",
      "source": [
        "from pyspark.sql import SparkSession\n",
        "import pyspark.sql.functions as F\n",
        "\n",
        "spark = SparkSession.builder\\\n",
        "        .appName(\"Project1_EDA_with_PySpark\")\\\n",
        "        .getOrCreate()"
      ],
      "metadata": {
        "id": "O3AIwdPaGWTy"
      },
      "execution_count": null,
      "outputs": []
    },
    {
      "cell_type": "code",
      "source": [
        "# for concise script, we import all functions as F\n",
        "import pyspark.sql.functions as F"
      ],
      "metadata": {
        "id": "-UEZxn3yBxNQ"
      },
      "execution_count": null,
      "outputs": []
    },
    {
      "cell_type": "markdown",
      "source": [
        "# 🔴 Organize your folders (5 pts)"
      ],
      "metadata": {
        "id": "r5Hvs1R5EJqr"
      }
    },
    {
      "cell_type": "markdown",
      "source": [
        "## (1) Create a folder on the local runtime called 'census' and copy all of the .txt files over to this folder\n",
        "Like we did in class!"
      ],
      "metadata": {
        "id": "4QmlwI_Khtco"
      }
    },
    {
      "cell_type": "code",
      "source": [
        "# make a directory called census\n"
      ],
      "metadata": {
        "id": "woUFusuGh_tH"
      },
      "execution_count": null,
      "outputs": []
    },
    {
      "cell_type": "code",
      "source": [
        "# move all of the txt files we just downloaded\n"
      ],
      "metadata": {
        "id": "NFm3e40Gj2Pb"
      },
      "execution_count": null,
      "outputs": []
    },
    {
      "cell_type": "markdown",
      "source": [
        "## (2) Create a folder on the local runtime called 'PPP' and copy all of the .csv files over to this folder\n",
        "Like we did in class! Use mv and not cp."
      ],
      "metadata": {
        "id": "tsO8jVgy8Vna"
      }
    },
    {
      "cell_type": "code",
      "source": [
        "# make a directory called PPP\n"
      ],
      "metadata": {
        "id": "Qu0_pDlrnJKF"
      },
      "execution_count": null,
      "outputs": []
    },
    {
      "cell_type": "code",
      "source": [
        "# move all of the csv files we just downloaded\n"
      ],
      "metadata": {
        "id": "c4zTna5onGea"
      },
      "execution_count": null,
      "outputs": []
    },
    {
      "cell_type": "markdown",
      "source": [
        "# 🔴 Clean the PPP data (10 points)"
      ],
      "metadata": {
        "id": "rE34nkW2EcGf"
      }
    },
    {
      "cell_type": "markdown",
      "source": [
        "## (1) Append/concatenate all of the PPP csv files together\n",
        "You should end up with ~2.76M rows and 53 columns if you did it right. You only need one line of code if you use the wildcard. Make sure you print the rows and column count to check your work or points off!"
      ],
      "metadata": {
        "id": "NOSbkyu5pCpj"
      }
    },
    {
      "cell_type": "markdown",
      "source": [
        "There are zipcode fields for the business and the banks! But be careful, there are null values!"
      ],
      "metadata": {
        "id": "vjxn6yenCxce"
      }
    },
    {
      "cell_type": "markdown",
      "source": [
        "## (2) Clean the zipcode column for PPP files\n",
        "There are some that are missing and there are some that have a long format (12345-6789).\n",
        "\n",
        "We only want records where the `BorrowerZip`:\n",
        "*  zip code exists (is non-null)\n",
        "*  if it does exist, make return only the first 5 digits (https://www.datasciencemadesimple.com/extract-first-n-and-last-n-character-in-pyspark/)\n",
        "\n",
        "Now answer:\n",
        "* How many rows did you drop? \n",
        "* What percentage of the original data was returned? Do you think this is acceptable data quality?"
      ],
      "metadata": {
        "id": "MGdzCWWXqYbh"
      }
    },
    {
      "cell_type": "markdown",
      "source": [
        "# 🔴 Clean up ALL census files (10 points)\n",
        "Try to use as little code as possible. You should end up with exactly 33120 rows and ~900 columns (depending on if you dropped the dirty zip code column.)"
      ],
      "metadata": {
        "id": "-dtzAgMW8rjj"
      }
    },
    {
      "cell_type": "markdown",
      "source": [
        "## (1) Read the files"
      ],
      "metadata": {
        "id": "lGJsqYfMqkTd"
      }
    },
    {
      "cell_type": "code",
      "source": [],
      "metadata": {
        "id": "pCIrUsTYoNaQ"
      },
      "execution_count": null,
      "outputs": []
    },
    {
      "cell_type": "markdown",
      "source": [
        "## (2) Join files together"
      ],
      "metadata": {
        "id": "AoHYlnTxqy9Z"
      }
    },
    {
      "cell_type": "markdown",
      "source": [
        "Hint: everything except the zipcode column should be converted to float... check the schema to be sure...\n",
        "* https://sparkbyexamples.com/pyspark/pyspark-join-two-or-multiple-dataframes/"
      ],
      "metadata": {
        "id": "ukF0-_U8oQ03"
      }
    },
    {
      "cell_type": "code",
      "source": [],
      "metadata": {
        "id": "G-X7ZhBloPMd"
      },
      "execution_count": null,
      "outputs": []
    },
    {
      "cell_type": "markdown",
      "source": [
        "## (3) Check your work"
      ],
      "metadata": {
        "id": "2HQqyND-q3OK"
      }
    },
    {
      "cell_type": "markdown",
      "source": [
        "To get full credit, you should have:\n",
        "* (33120, ~900)\n",
        "* All numeric columns (except for the clean zipcode column which should be a string - state why this column must be a string!)"
      ],
      "metadata": {
        "id": "byWNWtVdsVdX"
      }
    },
    {
      "cell_type": "markdown",
      "source": [
        "# 🔴 Analysis Questions (70 points)"
      ],
      "metadata": {
        "id": "wtLQ0DCSvpSf"
      }
    },
    {
      "cell_type": "markdown",
      "source": [
        "10 pts each."
      ],
      "metadata": {
        "id": "slPlIhjSmhEq"
      }
    },
    {
      "cell_type": "markdown",
      "source": [
        "## (1) Join the combined census data to the PPP data based on the zipcode "
      ],
      "metadata": {
        "id": "ECCq2PBHiWDa"
      }
    },
    {
      "cell_type": "markdown",
      "source": [
        "Let's call this new file `df`. Use `df` for all future analysis questions."
      ],
      "metadata": {
        "id": "58t_NGxzp7Bb"
      }
    },
    {
      "cell_type": "code",
      "source": [],
      "metadata": {
        "id": "q3jguTY0ii41"
      },
      "execution_count": null,
      "outputs": []
    },
    {
      "cell_type": "markdown",
      "source": [
        "## (2) Identify the Top 10 states that received loans"
      ],
      "metadata": {
        "id": "9GCTJvjxijTg"
      }
    },
    {
      "cell_type": "markdown",
      "source": [
        "Defined as the sum of funds per State across all records. You will need to recode this column because it is categorical data. Use the upper limit of each range and make sure it is NUMERIC data."
      ],
      "metadata": {
        "id": "7gDoliZwv4gp"
      }
    },
    {
      "cell_type": "code",
      "source": [],
      "metadata": {
        "id": "-2DTwhvqipWU"
      },
      "execution_count": null,
      "outputs": []
    },
    {
      "cell_type": "markdown",
      "source": [
        "## (3) Identify the Top 10 banks that loaned money\n",
        "Defined as the sum of loaned funds per State across all records. Are many of the banks who loaned the most money in the same State? \n",
        "\n",
        "Again, make sure you are using the numeric version of this categorical column!"
      ],
      "metadata": {
        "id": "P0Iau-sIJGfH"
      }
    },
    {
      "cell_type": "code",
      "source": [],
      "metadata": {
        "id": "IhcCFacyJMxP"
      },
      "execution_count": null,
      "outputs": []
    },
    {
      "cell_type": "markdown",
      "source": [
        "## (4) Which banks loaned the most money to businesses that were in the same State?\n",
        "You will need to do a logical statement here! For example, given that a bank is headquarted in CT, how much money was loaned to CT businesses by this bank?\n",
        "\n",
        "Generalize to all banks and businesses where this is true, then sort from high to low (return the top 10.)"
      ],
      "metadata": {
        "id": "rP4B2AScMFvE"
      }
    },
    {
      "cell_type": "code",
      "source": [],
      "metadata": {
        "id": "_bg4qzwjMdRO"
      },
      "execution_count": null,
      "outputs": []
    },
    {
      "cell_type": "markdown",
      "source": [
        "## (5) Which zipcodes received the most funding per capita?\n",
        "This requires you to calculate the sum of funds per zipcode and then divide by the population per zipcode, then sort from high to low. \n",
        "\n",
        "Make sure you use the clean 5 digit zip code!"
      ],
      "metadata": {
        "id": "4a9w5k3LyTkY"
      }
    },
    {
      "cell_type": "code",
      "source": [],
      "metadata": {
        "id": "sDDIwUx3-_Qf"
      },
      "execution_count": null,
      "outputs": []
    },
    {
      "cell_type": "markdown",
      "source": [
        "## (6) What is the top industry (NAICS codes) in the top 100 zip codes that received money?\n",
        "Top 100 zip codes meaning the zip codes that borrowed the most money. I want the most common NAICS code per zip code. Show all 100 rows then sum per NAICS to describe overall trends.\n",
        "\n",
        "This one is tricky!"
      ],
      "metadata": {
        "id": "rNFUWD1vxUg7"
      }
    },
    {
      "cell_type": "code",
      "source": [],
      "metadata": {
        "id": "RL_jPktlJQGu"
      },
      "execution_count": null,
      "outputs": []
    },
    {
      "cell_type": "markdown",
      "source": [
        "## (7) What are the socioeconomic characteristics of the top 100 zip codes? How do they relate to loan amounts?\n",
        "\n",
        "Select two census variables that look interesting to you. \n",
        "\n",
        "Create histograms or scatterplots of those interesting socioeconomic variables with data from the PPP. Make them beautiful and describe what you see.\n",
        "\n",
        "Don't just pick random variables - try to find an interesting story to tell with data and motivate WHY you picked this column!"
      ],
      "metadata": {
        "id": "apfTMApzwEwp"
      }
    },
    {
      "cell_type": "code",
      "source": [],
      "metadata": {
        "id": "LxlatTV-xTEt"
      },
      "execution_count": null,
      "outputs": []
    },
    {
      "cell_type": "markdown",
      "source": [
        "## (8) Optional extra credit for +10 points. What are the Top 10 zipcodes that had the highest per capita amount of loans going to Women-Owned businesses?\n",
        "\n",
        "This column is called `Gender` in the `PPP` data.\n",
        "\n",
        "* What State are these zipcodes in? \n",
        "* Comment on if they have anything in common? "
      ],
      "metadata": {
        "id": "9ay33g4BH83C"
      }
    },
    {
      "cell_type": "code",
      "source": [],
      "metadata": {
        "id": "ygBON1OjLM2k"
      },
      "execution_count": null,
      "outputs": []
    },
    {
      "cell_type": "markdown",
      "source": [
        "# 🔴 Conclusion (5 pts)"
      ],
      "metadata": {
        "id": "ilXXyWRlJwyY"
      }
    },
    {
      "cell_type": "markdown",
      "source": [
        "## (1) What did you learn? \n",
        "Write five detailed bullets about what you learned. "
      ],
      "metadata": {
        "id": "GgO8oYoNAKSw"
      }
    },
    {
      "cell_type": "markdown",
      "source": [
        "# On Your Own (no credit)\n",
        "No points - but can you download ALL files for PPP data (several gigabytes of data) and re-run this script with ease? Post on the discussion board if you do!"
      ],
      "metadata": {
        "id": "HmBomBoEmyrm"
      }
    }
  ]
}